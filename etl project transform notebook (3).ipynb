{
 "cells": [
  {
   "cell_type": "code",
   "execution_count": 50,
   "metadata": {},
   "outputs": [],
   "source": [
    "import pandas as pd\n",
    "\n",
    "a = pd.read_csv(\"/Users/alexandergoldstein/Downloads/leadsampling_2014.csv\")\n",
    "b = pd.DataFrame(a)\n",
    "\n",
    "c = pd.read_csv(\"/Users/alexandergoldstein/Downloads/leadsampling_2015.csv\")\n",
    "d = pd.DataFrame(c)\n",
    "\n",
    "e = pd.read_csv(\"/Users/alexandergoldstein/Downloads/CHA003_PWS_Lead_Public-drinking-water-lead-levels.csv\")\n",
    "f = pd.DataFrame(e)"
   ]
  },
  {
   "cell_type": "code",
   "execution_count": 51,
   "metadata": {},
   "outputs": [
    {
     "name": "stdout",
     "output_type": "stream",
     "text": [
      "4467\n",
      "13202\n"
     ]
    }
   ],
   "source": [
    "g = [b, d]\n",
    "h = pd.concat(g)\n",
    "print(len(h))\n",
    "print(len(f))"
   ]
  },
  {
   "cell_type": "code",
   "execution_count": 28,
   "metadata": {},
   "outputs": [],
   "source": [
    "f['COLLECT_DT'] = pd.to_datetime(f['COLLECT_DT'])\n",
    "i = \"01-01-2014\"\n",
    "j = (f['COLLECT_DT'] >= i)\n",
    "k = f.loc[j]"
   ]
  },
  {
   "cell_type": "code",
   "execution_count": 43,
   "metadata": {},
   "outputs": [],
   "source": [
    "l = \"02-01-2014\"\n",
    "m = (k['COLLECT_DT'] < l)\n",
    "n = k.loc[m]\n",
    "\n",
    "o = \"03-01-2014\"\n",
    "p = (k['COLLECT_DT'] >= l) & (k['COLLECT_DT'] < o)\n",
    "q = k.loc[p]\n",
    "\n",
    "r = \"04-01-2014\"\n",
    "s = (k['COLLECT_DT'] >= o) & (k['COLLECT_DT'] < r)\n",
    "t = k.loc[s]\n",
    "\n",
    "u = \"05-01-2014\"\n",
    "v = (k['COLLECT_DT'] >= r) & (k['COLLECT_DT'] < u)\n",
    "w = k.loc[v]\n",
    "\n",
    "x = \"6-01-2014\"\n",
    "y = (k['COLLECT_DT'] >= u) & (k['COLLECT_DT'] < x)\n",
    "z = k.loc[y]\n",
    "\n",
    "aa = \"07-01-2014\"\n",
    "ab = (k['COLLECT_DT'] >= x) & (k['COLLECT_DT'] < aa)\n",
    "ac = k.loc[ab]\n",
    "\n",
    "ad = \"08-01-2014\"\n",
    "ae = (k['COLLECT_DT'] >= aa) & (k['COLLECT_DT'] < ad)\n",
    "af = k.loc[ae]\n",
    "\n",
    "ag = \"09-01-2014\"\n",
    "ah = (k['COLLECT_DT'] >= ad) & (k['COLLECT_DT'] < ag)\n",
    "ai = k.loc[ah]\n",
    "\n",
    "aj = \"10-01-2014\"\n",
    "ak = (k['COLLECT_DT'] >= ag) & (k['COLLECT_DT'] < aj)\n",
    "al = k.loc[ak]\n",
    "\n",
    "am = \"11-01-2014\"\n",
    "an = (k['COLLECT_DT'] >= aj) & (k['COLLECT_DT'] < am)\n",
    "ao = k.loc[an]\n",
    "\n",
    "ap = \"12-01-2014\"\n",
    "aq = (k['COLLECT_DT'] >= am) & (k['COLLECT_DT'] < ap)\n",
    "ar = k.loc[aq]\n",
    "\n",
    "at = \"01-01-2015\"\n",
    "au = (k['COLLECT_DT'] >= ap) & (k['COLLECT_DT'] < at)\n",
    "av = k.loc[au]\n",
    "\n",
    "aw = \"02-01-2015\"\n",
    "ax = (k['COLLECT_DT'] >= at) & (k['COLLECT_DT'] < aw)\n",
    "ay = k.loc[ax]\n",
    "\n",
    "az = \"03-01-2015\"\n",
    "ba = (k['COLLECT_DT'] >= aw) & (k['COLLECT_DT'] < az)\n",
    "bb = k.loc[ba]\n",
    "\n",
    "bc = \"04-01-2015\"\n",
    "bd = (k['COLLECT_DT'] >= az) & (k['COLLECT_DT'] < bc)\n",
    "be = k.loc[bd]\n",
    "\n",
    "bf = \"05-01-2015\"\n",
    "bg = (k['COLLECT_DT'] >= bc) & (k['COLLECT_DT'] < bf)\n",
    "bh = k.loc[bg]\n",
    "\n",
    "bi = \"06-01-2015\"\n",
    "bj = (k['COLLECT_DT'] >= bf) & (k['COLLECT_DT'] < bi)\n",
    "bk = k.loc[bj]\n",
    "\n",
    "bl = \"07-01-2015\"\n",
    "bm = (k['COLLECT_DT'] >= bi) & (k['COLLECT_DT'] < bl)\n",
    "bn = k.loc[bm]\n",
    "\n",
    "bo = \"08-01-2015\"\n",
    "bp = (k['COLLECT_DT'] >= bl) & (k['COLLECT_DT'] < bo)\n",
    "bq = k.loc[bp]\n",
    "\n",
    "br = \"09-01-2015\"\n",
    "bs = (k['COLLECT_DT'] >= bo) & (k['COLLECT_DT'] < br)\n",
    "bt = k.loc[bs]\n",
    "\n",
    "bu = \"10-01-2015\"\n",
    "bv = (k['COLLECT_DT'] >= br) & (k['COLLECT_DT'] < bu)\n",
    "bw = k.loc[bv]\n",
    "\n",
    "bx = \"11-01-2015\"\n",
    "by = (k['COLLECT_DT'] >= bu) & (k['COLLECT_DT'] < bx)\n",
    "bz = k.loc[by]\n",
    "\n",
    "ca = \"12-01-2015\"\n",
    "cb = (k['COLLECT_DT'] >= bx) & (k['COLLECT_DT'] < ca)\n",
    "cc = k.loc[cb]\n",
    "\n",
    "dx = (k['COLLECT_DT'] >= ca)\n",
    "dy = k.loc[dx]"
   ]
  },
  {
   "cell_type": "code",
   "execution_count": 115,
   "metadata": {},
   "outputs": [
    {
     "name": "stdout",
     "output_type": "stream",
     "text": [
      "44\n"
     ]
    }
   ],
   "source": [
    "h['Sampled Date'] = pd.to_datetime(h['Sampled Date'])\n",
    "\n",
    "l = \"02-01-2014\"\n",
    "ce = (h['Sampled Date'] < l)\n",
    "cf = h.loc[ce]\n",
    "print(len(cf))"
   ]
  },
  {
   "cell_type": "code",
   "execution_count": 44,
   "metadata": {},
   "outputs": [],
   "source": [
    "cd = (h['Sampled Date'] >= l) & (h['Sampled Date'] < o)\n",
    "cg = h.loc[cd]\n",
    "\n",
    "ch = (h['Sampled Date'] >= o) & (h['Sampled Date'] < r)\n",
    "ci = h.loc[ch]\n",
    "\n",
    "cj = (h['Sampled Date'] >= r) & (h['Sampled Date'] < u)\n",
    "ck = h.loc[cj]\n",
    "\n",
    "cl = (h['Sampled Date'] >= u) & (h['Sampled Date'] < x)\n",
    "cm = h.loc[cl]\n",
    "\n",
    "cn = (h['Sampled Date'] >= x) & (h['Sampled Date'] < aa)\n",
    "co = h.loc[cn]\n",
    "\n",
    "cp = (h['Sampled Date'] >= aa) & (h['Sampled Date'] < ad)\n",
    "cq = h.loc[cp]\n",
    "\n",
    "cr = (h['Sampled Date'] >= ad) & (h['Sampled Date'] < ag)\n",
    "cs = h.loc[cr]\n",
    "\n",
    "ct = (h['Sampled Date'] >= ag) & (h['Sampled Date'] < aj)\n",
    "cu = h.loc[ct]\n",
    "\n",
    "cv = (h['Sampled Date'] >= aj) & (h['Sampled Date'] < am)\n",
    "cw = h.loc[cv]\n",
    "\n",
    "cx = (h['Sampled Date'] >= am) & (h['Sampled Date'] < ap)\n",
    "cy = h.loc[cx]\n",
    "\n",
    "cz = (h['Sampled Date'] >= ap) & (h['Sampled Date'] < at)\n",
    "da = h.loc[cz]\n",
    "\n",
    "db = (h['Sampled Date'] >= at) & (h['Sampled Date'] < aw)\n",
    "dc = h.loc[db]\n",
    "\n",
    "dd = (h['Sampled Date'] >= aw) & (h['Sampled Date'] < az)\n",
    "de = h.loc[dd]\n",
    "\n",
    "df = (h['Sampled Date'] >= az) & (h['Sampled Date'] < bc)\n",
    "dg = h.loc[df]\n",
    "\n",
    "dh = (h['Sampled Date'] >= bc) & (h['Sampled Date'] < bf)\n",
    "di = h.loc[dh]\n",
    "\n",
    "dj = (h['Sampled Date'] >= bf) & (h['Sampled Date'] < bi)\n",
    "dk = h.loc[dj]\n",
    "\n",
    "dl = (h['Sampled Date'] >= bi) & (h['Sampled Date'] < bl)\n",
    "dm = h.loc[dl]\n",
    "\n",
    "dn = (h['Sampled Date'] >= bl) & (h['Sampled Date'] < bo)\n",
    "do = h.loc[dn]\n",
    "\n",
    "dp = (h['Sampled Date'] >= bo) & (h['Sampled Date'] < br)\n",
    "dq = h.loc[dp]\n",
    "\n",
    "dr = (h['Sampled Date'] >= br) & (h['Sampled Date'] < bu)\n",
    "ds = h.loc[dr]\n",
    "\n",
    "dt = (h['Sampled Date'] >= bu) & (h['Sampled Date'] < bx)\n",
    "du = h.loc[dt]\n",
    "\n",
    "dv = (h['Sampled Date'] >= bx) & (h['Sampled Date'] < ca)\n",
    "dw = h.loc[dv]\n",
    "\n",
    "dz = (h['Sampled Date'] >= ca)\n",
    "ea = h.loc[dz]"
   ]
  },
  {
   "cell_type": "code",
   "execution_count": 47,
   "metadata": {},
   "outputs": [
    {
     "name": "stdout",
     "output_type": "stream",
     "text": [
      "11\n",
      "1\n",
      "86\n",
      "30\n",
      "97\n",
      "769\n",
      "886\n",
      "1076\n",
      "1255\n",
      "50\n",
      "84\n",
      "221\n",
      "2\n",
      "24\n",
      "18\n",
      "55\n",
      "217\n",
      "817\n",
      "665\n",
      "1150\n",
      "1220\n",
      "50\n",
      "163\n",
      "126\n"
     ]
    }
   ],
   "source": [
    "print(len(n))\n",
    "print(len(q))\n",
    "print(len(t))\n",
    "print(len(w))\n",
    "print(len(z))\n",
    "print(len(ac))\n",
    "print(len(af))\n",
    "print(len(ai))\n",
    "print(len(al))\n",
    "print(len(ao))\n",
    "print(len(ar))\n",
    "print(len(av))\n",
    "print(len(ay))\n",
    "print(len(bb))\n",
    "print(len(be))\n",
    "print(len(bh))\n",
    "print(len(bk))\n",
    "print(len(bn))\n",
    "print(len(bq))\n",
    "print(len(bt))\n",
    "print(len(bw))\n",
    "print(len(bz))\n",
    "print(len(cc))\n",
    "print(len(dy))"
   ]
  },
  {
   "cell_type": "code",
   "execution_count": 110,
   "metadata": {},
   "outputs": [
    {
     "name": "stdout",
     "output_type": "stream",
     "text": [
      "44\n",
      "40\n",
      "45\n",
      "81\n",
      "1030\n",
      "924\n",
      "424\n",
      "287\n",
      "229\n",
      "165\n",
      "113\n",
      "103\n",
      "93\n",
      "65\n",
      "89\n",
      "96\n",
      "91\n",
      "70\n",
      "93\n",
      "77\n",
      "74\n",
      "86\n",
      "81\n",
      "67\n"
     ]
    }
   ],
   "source": [
    "print(len(cf))\n",
    "print(len(cg))\n",
    "print(len(ci))\n",
    "print(len(ck))\n",
    "print(len(cm))\n",
    "print(len(co))\n",
    "print(len(cq))\n",
    "print(len(cs))\n",
    "print(len(cu))\n",
    "print(len(cw))\n",
    "print(len(cy))\n",
    "print(len(da))\n",
    "print(len(dc))\n",
    "print(len(de))\n",
    "print(len(dg))\n",
    "print(len(di))\n",
    "print(len(dk))\n",
    "print(len(dm))\n",
    "print(len(do))\n",
    "print(len(dq))\n",
    "print(len(ds))\n",
    "print(len(du))\n",
    "print(len(dw))\n",
    "print(len(ea))"
   ]
  },
  {
   "cell_type": "code",
   "execution_count": 117,
   "metadata": {},
   "outputs": [
    {
     "name": "stdout",
     "output_type": "stream",
     "text": [
      "11\n"
     ]
    }
   ],
   "source": [
    "eb = cf.sample(n=11, random_state=1)\n",
    "ec = cg.sample(n=1, random_state=1)\n",
    "ed = t.sample(n=45, random_state=1)\n",
    "ee = ck.sample(n=30, random_state=1)\n",
    "ef = cm.sample(n=97, random_state=1)\n",
    "eg = co.sample(n=769, random_state=1)\n",
    "eh = af.sample(n=424, random_state=1)\n",
    "ei = ai.sample(n=287, random_state=1)\n",
    "ej = al.sample(n=229, random_state=1)\n",
    "ek = cw.sample(n=50, random_state=1)\n",
    "el = cy.sample(n=84, random_state=1)\n",
    "em = av.sample(n=103, random_state=1)\n",
    "en = dc.sample(n=2, random_state=1)\n",
    "eo = de.sample(n=24, random_state=1)\n",
    "ep = dg.sample(n=18, random_state=1)\n",
    "eq = di.sample(n=55, random_state=1)\n",
    "er = bk.sample(n=91, random_state=1)\n",
    "es = bn.sample(n=70, random_state=1)\n",
    "et = bq.sample(n=93, random_state=1)\n",
    "eu = bt.sample(n=77, random_state=1)\n",
    "ev = bw.sample(n=74, random_state=1)\n",
    "ew = du.sample(n=50, random_state=1)\n",
    "ex = cc.sample(n=81, random_state=1)\n",
    "ey = dy.sample(n=67, random_state=1)\n",
    "print(len(eb))"
   ]
  },
  {
   "cell_type": "code",
   "execution_count": 122,
   "metadata": {},
   "outputs": [
    {
     "name": "stdout",
     "output_type": "stream",
     "text": [
      "24\n"
     ]
    }
   ],
   "source": [
    "ez = [n, q, ed, w, z, ac, eh, ei, ej, ao, ar, em, ay, bb, be, bh, er, es, et, eu, ev, bz, ex, ey]\n",
    "fb = pd.concat(ez)\n",
    "fd = pd.DataFrame(fb)\n"
   ]
  },
  {
   "cell_type": "code",
   "execution_count": 124,
   "metadata": {},
   "outputs": [
    {
     "name": "stdout",
     "output_type": "stream",
     "text": [
      "      Sample Number Sampled Date Partial Postal Code Lead Amount ppb\n",
      "3444        1541356   2014-01-28                 M6R            12.0\n",
      "3443        1545983   2014-01-29                 M4P           0.230\n",
      "3471        1536622   2014-01-13                 M6P           0.460\n",
      "3462        1545982   2014-01-16                 M6P           0.360\n",
      "3463        1546030   2014-01-16                 M6P            4.40\n",
      "3482        1536641   2014-01-03                 M1L          0.0920\n",
      "3460        1540984   2014-01-19                 M9B           0.780\n",
      "3476        1535457   2014-01-09                 M4C            1.60\n",
      "3475        1535461   2014-01-09                 M4G           0.880\n",
      "3474        1537589   2014-01-10                 M4C         <0.0500\n",
      "3484        1536645   2014-01-01                 M4E            7.80\n"
     ]
    }
   ],
   "source": [
    "fa = [eb, ec, ci, ee, ef, eg, cq, cs, cu, ek, el, da, en, eo, ep, eq, dk, dm, do, dq, ds, ew, dw, ea]\n",
    "fc = pd.concat(fa)\n",
    "print(eb)"
   ]
  },
  {
   "cell_type": "code",
   "execution_count": 128,
   "metadata": {},
   "outputs": [],
   "source": [
    "fn = [eb, fc]\n",
    "fo = pd.concat(fn)\n",
    "fd = pd.DataFrame(fb)\n",
    "fe = pd.DataFrame(fc)\n",
    "fl = fe.sort_values(by=\"Sampled Date\")\n",
    "fm = fd.sort_values(by=\"COLLECT_DT\")"
   ]
  },
  {
   "cell_type": "code",
   "execution_count": 129,
   "metadata": {},
   "outputs": [],
   "source": [
    "db1 = fl.to_csv('transform-3.csv')\n",
    "db2 = fm.to_csv('transform-4.csv')\n",
    "db1\n",
    "db2"
   ]
  },
  {
   "cell_type": "code",
   "execution_count": null,
   "metadata": {},
   "outputs": [],
   "source": []
  }
 ],
 "metadata": {
  "kernelspec": {
   "display_name": "Python 3",
   "language": "python",
   "name": "python3"
  },
  "language_info": {
   "codemirror_mode": {
    "name": "ipython",
    "version": 3
   },
   "file_extension": ".py",
   "mimetype": "text/x-python",
   "name": "python",
   "nbconvert_exporter": "python",
   "pygments_lexer": "ipython3",
   "version": "3.6.12"
  }
 },
 "nbformat": 4,
 "nbformat_minor": 4
}
